{
  "nbformat": 4,
  "nbformat_minor": 0,
  "metadata": {
    "colab": {
      "provenance": [],
      "authorship_tag": "ABX9TyOt1aPkMmmyHUEG4WmQY0yB",
      "include_colab_link": true
    },
    "kernelspec": {
      "name": "python3",
      "display_name": "Python 3"
    },
    "language_info": {
      "name": "python"
    }
  },
  "cells": [
    {
      "cell_type": "markdown",
      "metadata": {
        "id": "view-in-github",
        "colab_type": "text"
      },
      "source": [
        "<a href=\"https://colab.research.google.com/github/wiktoriasod/lab1_collab/blob/main/lab1.ipynb\" target=\"_parent\"><img src=\"https://colab.research.google.com/assets/colab-badge.svg\" alt=\"Open In Colab\"/></a>"
      ]
    },
    {
      "cell_type": "code",
      "execution_count": 1,
      "metadata": {
        "colab": {
          "base_uri": "https://localhost:8080/"
        },
        "id": "4tVl7VMSoY8N",
        "outputId": "04ab2105-bd5a-4257-9fa8-b076cfd179cd"
      },
      "outputs": [
        {
          "output_type": "stream",
          "name": "stdout",
          "text": [
            "#10 Alexander Alekhine \n",
            "#9 Mikhail Tal\n",
            "#8 Emanuel Lasker\n",
            "#7 Vladimir Kramnik\n",
            "#6 Mikhail Botvinnik\n",
            "#5 Anatoly Karpov\n",
            "#4 Jose Raul Capablanca\n",
            "#3 Bobby Fischer\n",
            "#2 Magnus Carlsen\n",
            "#1 Garry Kasparov\n",
            "['Alexander', 'Alekhine', 'Mikhail', 'Tal', 'Emanuel', 'Lasker', 'Vladimir', 'Kramnik', 'Mikhail', 'Botvinnik', 'Anatoly', 'Karpov', 'Jose', 'Raul', 'Capablanca', 'Bobby', 'Fischer', 'Magnus', 'Carlsen', 'Garry', 'Kasparov']\n"
          ]
        }
      ],
      "source": [
        "from bs4 import BeautifulSoup\n",
        "import requests\n",
        "\n",
        "url = 'https://www.chess.com/pl/article/view/10-najlepszych-szachistow-wszech-czasow'\n",
        "\n",
        "page = requests.get(url)\n",
        "soup = BeautifulSoup(page.text, 'html.parser')\n",
        "\n",
        "section = soup.find_all('div', class_='post-view-content')[0]\n",
        "\n",
        "imiona = section.find_all('li')\n",
        "clean_text = []\n",
        "\n",
        "for item in range(4,14):\n",
        "    text = imiona[item].get_text()\n",
        "    print(text)\n",
        "    clean_text += text.split()[1:]\n",
        "    #clean_text = ' '.join(text.split()[1:])\n",
        "\n",
        "print(clean_text)\n",
        "\n",
        "wstep = section.find_all('p')\n",
        "opis_full = ''\n",
        "\n",
        "for item in range(4):\n",
        "    text = wstep[item].get_text()\n",
        "    opis_full = opis_full + text\n",
        "\n",
        "with open('index.md', 'w', encoding='utf-8') as file:\n",
        "    file.write(\"Witaj na stronie dedykowanej najlepszym szachistom! Stworzyłem ją z fascynacji talentem i umiejętnościami mistrzów szachowych oraz z pasji do samej gry. Jestem głęboko przekonany, że warto poznać historię i osiągnięcia tych niezwykłych graczy, którzy inspirują i podnoszą poprzeczkę dla kolejnych pokoleń szachistów. Szachy to nie tylko gra, to także nauka, kreatywność i wyzwanie umysłowe. Dlatego zgłębianie informacji o najlepszych szachistach może być nie tylko źródłem wiedzy na temat samej gry, ale także inspiracją do rozwoju umiejętności intelektualnych i strategicznych. Ta strona powstała przy użyciu techniki web scrappingu jako część mojego projektu z przedmiotu 'Aplikacje WWW'. Zapraszam do odkrywania świata szachów i poznawania historii oraz osiągnięć ich mistrzów!\")\n",
        "    file.write(\"TUTAJ ZNAJDZIESZ 10 NAJLEPSZYCH szachistówwszech czasów - [Lista Szachistów](szachisci.md)\\n\")\n",
        "\n",
        "with open('szachisci.md', 'w', encoding='utf-8') as file:\n",
        "    file.write(opis_full)\n",
        "    for i in clean_text:\n",
        "      file.write(i +\"\\n\")\n",
        "\n"
      ]
    },
    {
      "cell_type": "code",
      "source": [
        "import requests\n",
        "from bs4 import BeautifulSoup\n",
        "import os\n",
        "from googlesearch import search #biblioteka\n",
        "\n",
        "def process_page(url):\n",
        "    response = requests.get(url)\n",
        "    soup = BeautifulSoup(response.content, 'html.parser')\n",
        "\n",
        "    section = soup.find('div', class_='rich-text-2 tablecontent w-richtext')\n",
        "    tiktokers = []\n",
        "    for item in section.find_all('li'):\n",
        "        tiktoker = item.text.strip()\n",
        "        if tiktoker:\n",
        "            tiktokers.append(tiktoker)\n",
        "\n",
        "    with open('tiktokers_list.md', 'w', encoding='utf-8') as file:\n",
        "        file.write(\"# Lista TikTokerów\\n\\n\")\n",
        "        for tiktoker in tiktokers:\n",
        "            file.write(f\"- [{tiktoker}](tiktokers/{tiktoker.replace(' ', '_')}.md)\\n\")\n",
        "\n",
        "    os.makedirs('tiktokers', exist_ok=True)\n",
        "\n",
        "    for tiktoker in tiktokers:\n",
        "        # Próba wyodrębnienia tylko imienia i nazwiska TikTokera\n",
        "        name_only = tiktoker.split('-')[0].split('.')[1].strip()  # Przykładowe przetworzenie\n",
        "        tiktoker_file_path = os.path.join('tiktokers', f\"{name_only.replace(' ', '_')}.md\")\n",
        "        with open(tiktoker_file_path, 'w', encoding='utf-8') as file:\n",
        "            file.write(f\"# {name_only}\\n\\n\")\n",
        "\n",
        "            query = f\"{name_only} TikToker site:tiktok.com\" #zmienna ktorą chce sie wyszukiwać w google\n",
        "            tiktok_profile_url = next(search(query, num=1, stop=1, pause=2), None)\n",
        "            if tiktok_profile_url:\n",
        "                file.write(f\"\\nOdwiedź profil na TikToku: [{tiktok_profile_url}]({tiktok_profile_url})\\n\")\n",
        "\n",
        "    with open('index.md', 'w', encoding='utf-8') as file:\n",
        "        file.write(\"# Witryna poświęcona TikTokerom\\n\\n\")\n",
        "        file.write(\"TUTAJ ZNAJDZIESZ NAJLEPSZYCH TIKTOKERÓW NA ŚWIECIE - [Lista TikTokerów](tiktokers_list.md)\\n\")\n",
        "\n",
        "    with open('_config.yml', 'w', encoding='utf-8') as file: #plik konfiguracyjny do jelyyky templste z  ktorego am skorzystać\n",
        "        file.write(\"theme: minima\\n\")\n",
        "\n",
        "    print(\"Zakończono generowanie witryny.\")\n",
        "\n",
        "\n",
        "# Adres strony do scrapowania\n",
        "url = 'https://www.favikon.com/blog/the-20-most-famous-tiktok-influencers-in-the-world'\n",
        "\n",
        "# Przetwarzanie strony\n",
        "process_page(url)"
      ],
      "metadata": {
        "id": "EQo02lBWlB77"
      },
      "execution_count": null,
      "outputs": []
    }
  ]
}